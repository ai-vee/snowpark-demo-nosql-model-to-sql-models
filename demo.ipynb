{
 "cells": [
  {
   "cell_type": "code",
   "execution_count": 3,
   "metadata": {},
   "outputs": [
    {
     "name": "stderr",
     "output_type": "stream",
     "text": [
      "2023-08-05 19:54:55,300:\u001b[32mSTART..........\u001b[0m model_nested_JSON_objects parent_path = ENTRY\u001b[0m\n",
      "2023-08-05 19:54:55,920:\u001b[32mSTART..........\u001b[0m flatten_array             array_field = LAPTOPS\u001b[0m\n",
      "2023-08-05 19:54:56,059:\u001b[32mSUCCEEDED......\u001b[0m flatten_array             array_field = LAPTOPS\u001b[0m\n",
      "2023-08-05 19:54:57,004:\u001b[32mSTART..........\u001b[0m flatten_array             array_field = DEPARTMENTS\u001b[0m\n",
      "2023-08-05 19:54:57,147:\u001b[32mSUCCEEDED......\u001b[0m flatten_array             array_field = DEPARTMENTS\u001b[0m\n",
      "2023-08-05 19:54:57,389:\u001b[32mSTART..........\u001b[0m expand_object_subfields   obj_field = ADDRESS\u001b[0m\n",
      "2023-08-05 19:54:57,580:\u001b[32mSUCCEEDED......\u001b[0m expand_object_subfields   obj_field = ADDRESS\u001b[0m\n",
      "2023-08-05 19:54:57,833:\u001b[32mSTART..........\u001b[0m expand_object_subfields   obj_field = CONTACTS\u001b[0m\n",
      "2023-08-05 19:54:58,037:\u001b[32mSUCCEEDED......\u001b[0m expand_object_subfields   obj_field = CONTACTS\u001b[0m\n",
      "2023-08-05 19:54:58,040:\u001b[32mSTART..........\u001b[0m model_nested_JSON_objects parent_path = ENTRY\u001b[0m\n",
      "2023-08-05 19:54:59,533:\u001b[32mSTART..........\u001b[0m model_nested_JSON_objects parent_path = ENTRY\u001b[0m\n",
      "2023-08-05 19:54:59,589:\u001b[33mWARNING   \u001b[0m LINE122   unpack_as_separate_tables.model_nested_JSON_objects\n",
      "\tTerminated at 3 recursive calls\n",
      "\u001b[0m\n",
      "2023-08-05 19:54:59,590:\u001b[32mSUCCEEDED......\u001b[0m model_nested_JSON_objects parent_path = ENTRY\u001b[0m\n",
      "2023-08-05 19:54:59,592:\u001b[32mSUCCEEDED......\u001b[0m model_nested_JSON_objects parent_path = ENTRY\u001b[0m\n",
      "2023-08-05 19:54:59,593:\u001b[32mSTART..........\u001b[0m model_nested_JSON_objects parent_path = LAPTOPS\u001b[0m\n",
      "2023-08-05 19:55:00,304:\u001b[32mSTART..........\u001b[0m expand_object_subfields   obj_field = LAPTOPS\u001b[0m\n",
      "2023-08-05 19:55:00,524:\u001b[32mSUCCEEDED......\u001b[0m expand_object_subfields   obj_field = LAPTOPS\u001b[0m\n",
      "2023-08-05 19:55:00,526:\u001b[32mSTART..........\u001b[0m model_nested_JSON_objects parent_path = LAPTOPS\u001b[0m\n",
      "2023-08-05 19:55:01,135:\u001b[32mSTART..........\u001b[0m model_nested_JSON_objects parent_path = LAPTOPS\u001b[0m\n",
      "2023-08-05 19:55:01,217:\u001b[33mWARNING   \u001b[0m LINE122   unpack_as_separate_tables.model_nested_JSON_objects\n",
      "\tTerminated at 4 recursive calls\n",
      "\u001b[0m\n",
      "2023-08-05 19:55:01,219:\u001b[32mSUCCEEDED......\u001b[0m model_nested_JSON_objects parent_path = LAPTOPS\u001b[0m\n",
      "2023-08-05 19:55:01,220:\u001b[32mSUCCEEDED......\u001b[0m model_nested_JSON_objects parent_path = LAPTOPS\u001b[0m\n",
      "2023-08-05 19:55:01,221:\u001b[32mSUCCEEDED......\u001b[0m model_nested_JSON_objects parent_path = LAPTOPS\u001b[0m\n",
      "2023-08-05 19:55:01,223:\u001b[32mSTART..........\u001b[0m model_nested_JSON_objects parent_path = DEPARTMENTS\u001b[0m\n",
      "2023-08-05 19:55:01,611:\u001b[32mSTART..........\u001b[0m expand_object_subfields   obj_field = DEPARTMENTS\u001b[0m\n",
      "2023-08-05 19:55:01,803:\u001b[32mSUCCEEDED......\u001b[0m expand_object_subfields   obj_field = DEPARTMENTS\u001b[0m\n",
      "2023-08-05 19:55:01,808:\u001b[32mSTART..........\u001b[0m model_nested_JSON_objects parent_path = DEPARTMENTS\u001b[0m\n",
      "2023-08-05 19:55:02,398:\u001b[32mSTART..........\u001b[0m flatten_array             array_field = DEPARTMENTS__PROJECTS\u001b[0m\n",
      "2023-08-05 19:55:02,601:\u001b[32mSUCCEEDED......\u001b[0m flatten_array             array_field = DEPARTMENTS__PROJECTS\u001b[0m\n",
      "2023-08-05 19:55:02,856:\u001b[32mSTART..........\u001b[0m model_nested_JSON_objects parent_path = DEPARTMENTS\u001b[0m\n",
      "2023-08-05 19:55:02,969:\u001b[33mWARNING   \u001b[0m LINE122   unpack_as_separate_tables.model_nested_JSON_objects\n",
      "\tTerminated at 4 recursive calls\n",
      "\u001b[0m\n",
      "2023-08-05 19:55:02,972:\u001b[32mSUCCEEDED......\u001b[0m model_nested_JSON_objects parent_path = DEPARTMENTS\u001b[0m\n",
      "2023-08-05 19:55:02,972:\u001b[32mSTART..........\u001b[0m model_nested_JSON_objects parent_path = DEPARTMENTS__PROJECTS\u001b[0m\n",
      "2023-08-05 19:55:03,316:\u001b[32mSTART..........\u001b[0m expand_object_subfields   obj_field = DEPARTMENTS__PROJECTS\u001b[0m\n",
      "2023-08-05 19:55:03,504:\u001b[32mSUCCEEDED......\u001b[0m expand_object_subfields   obj_field = DEPARTMENTS__PROJECTS\u001b[0m\n",
      "2023-08-05 19:55:03,507:\u001b[32mSTART..........\u001b[0m model_nested_JSON_objects parent_path = DEPARTMENTS__PROJECTS\u001b[0m\n",
      "2023-08-05 19:55:04,907:\u001b[32mSTART..........\u001b[0m flatten_array             array_field = DEPARTMENTS__PROJECTS__TASKS\u001b[0m\n",
      "2023-08-05 19:55:05,082:\u001b[32mSUCCEEDED......\u001b[0m flatten_array             array_field = DEPARTMENTS__PROJECTS__TASKS\u001b[0m\n",
      "2023-08-05 19:55:05,082:\u001b[32mSTART..........\u001b[0m model_nested_JSON_objects parent_path = DEPARTMENTS__PROJECTS\u001b[0m\n",
      "2023-08-05 19:55:05,197:\u001b[33mWARNING   \u001b[0m LINE122   unpack_as_separate_tables.model_nested_JSON_objects\n",
      "\tTerminated at 6 recursive calls\n",
      "\u001b[0m\n",
      "2023-08-05 19:55:05,198:\u001b[32mSUCCEEDED......\u001b[0m model_nested_JSON_objects parent_path = DEPARTMENTS__PROJECTS\u001b[0m\n",
      "2023-08-05 19:55:05,199:\u001b[32mSTART..........\u001b[0m model_nested_JSON_objects parent_path = DEPARTMENTS__PROJECTS__TASKS\u001b[0m\n",
      "2023-08-05 19:55:05,621:\u001b[32mSTART..........\u001b[0m expand_object_subfields   obj_field = DEPARTMENTS__PROJECTS__TASKS\u001b[0m\n",
      "2023-08-05 19:55:05,809:\u001b[32mSUCCEEDED......\u001b[0m expand_object_subfields   obj_field = DEPARTMENTS__PROJECTS__TASKS\u001b[0m\n",
      "2023-08-05 19:55:05,812:\u001b[32mSTART..........\u001b[0m model_nested_JSON_objects parent_path = DEPARTMENTS__PROJECTS__TASKS\u001b[0m\n",
      "2023-08-05 19:55:06,730:\u001b[32mSTART..........\u001b[0m model_nested_JSON_objects parent_path = DEPARTMENTS__PROJECTS__TASKS\u001b[0m\n",
      "2023-08-05 19:55:06,819:\u001b[33mWARNING   \u001b[0m LINE122   unpack_as_separate_tables.model_nested_JSON_objects\n",
      "\tTerminated at 8 recursive calls\n",
      "\u001b[0m\n",
      "2023-08-05 19:55:06,820:\u001b[32mSUCCEEDED......\u001b[0m model_nested_JSON_objects parent_path = DEPARTMENTS__PROJECTS__TASKS\u001b[0m\n",
      "2023-08-05 19:55:06,821:\u001b[32mSUCCEEDED......\u001b[0m model_nested_JSON_objects parent_path = DEPARTMENTS__PROJECTS__TASKS\u001b[0m\n",
      "2023-08-05 19:55:06,823:\u001b[32mSUCCEEDED......\u001b[0m model_nested_JSON_objects parent_path = DEPARTMENTS__PROJECTS__TASKS\u001b[0m\n",
      "2023-08-05 19:55:06,825:\u001b[32mSUCCEEDED......\u001b[0m model_nested_JSON_objects parent_path = DEPARTMENTS__PROJECTS\u001b[0m\n",
      "2023-08-05 19:55:06,826:\u001b[32mSUCCEEDED......\u001b[0m model_nested_JSON_objects parent_path = DEPARTMENTS__PROJECTS\u001b[0m\n",
      "2023-08-05 19:55:06,827:\u001b[32mSUCCEEDED......\u001b[0m model_nested_JSON_objects parent_path = DEPARTMENTS\u001b[0m\n",
      "2023-08-05 19:55:06,828:\u001b[32mSUCCEEDED......\u001b[0m model_nested_JSON_objects parent_path = DEPARTMENTS\u001b[0m\n",
      "2023-08-05 19:55:06,829:\u001b[32mSUCCEEDED......\u001b[0m model_nested_JSON_objects parent_path = ENTRY\u001b[0m\n",
      "2023-08-05 19:55:06,829:\u001b[32mINFO      \u001b[0m LINE180   unpack_as_separate_tables.snowpark_main_handler\n",
      "\tResults: TEMP_ENTRY_STRUCTURED\n",
      "\u001b[0m\n"
     ]
    },
    {
     "name": "stdout",
     "output_type": "stream",
     "text": [
      "--------------------------------------------------------------------------------------------------------------------------------------------------------------------------------------------------------------------------------------------------------------------------------------------------------------------\n",
      "|\"ID\"  |\"NAME\"      |\"AGE\"  |\"INGESTION_CTRL\"               |\"DATASET_SERVICE\"  |\"LAPTOPS_SHA256\"                                    |\"DEPARTMENTS_SHA256\"                                |\"ADDRESS__STATE\"  |\"ADDRESS__STREET\"  |\"ADDRESS__ZIP_CODE\"  |\"ADDRESS__SUBURB\"  |\"CONTACTS__EMAIL\"  |\"CONTACTS__PHONE\"  |\n",
      "--------------------------------------------------------------------------------------------------------------------------------------------------------------------------------------------------------------------------------------------------------------------------------------------------------------------\n",
      "|1     |John Doe    |30     |{                              |202203             |76b62193b24292415e45cc3dab6d5592ed993d95c43e429...  |73b4dd67c6e8b686e6c30a6ee8eaaec058caf7c4633be02...  |\"XYZ State\"       |\"123 Main St\"      |\"12345\"              |\"ABC Suburb\"       |\"John@gm.com\"      |456366666          |\n",
      "|      |            |       |  \"file_name\": \"{{ 202203 }}\"  |                   |                                                    |                                                    |                  |                   |                     |                   |                   |                   |\n",
      "|      |            |       |}                              |                   |                                                    |                                                    |                  |                   |                     |                   |                   |                   |\n",
      "|2     |Jane Smith  |28     |{                              |202203             |c1e9d88c853d0bb6f12fa4fe8064092a77692b5d0a99338...  |52889512d11f6d60317982b9df55c181ff85bcdab03556f...  |\"LMN State\"       |\"456 Elm St\"       |\"67890\"              |\"DEF Suburb\"       |\"Jane@gm.com\"      |\"0456362222\"       |\n",
      "|      |            |       |  \"file_name\": \"{{ 202203 }}\"  |                   |                                                    |                                                    |                  |                   |                     |                   |                   |                   |\n",
      "|      |            |       |}                              |                   |                                                    |                                                    |                  |                   |                     |                   |                   |                   |\n",
      "--------------------------------------------------------------------------------------------------------------------------------------------------------------------------------------------------------------------------------------------------------------------------------------------------------------------\n",
      "\n"
     ]
    },
    {
     "name": "stderr",
     "output_type": "stream",
     "text": [
      "2023-08-05 19:55:07,414:\u001b[32mINFO      \u001b[0m LINE180   unpack_as_separate_tables.snowpark_main_handler\n",
      "\tResults: TEMP_LAPTOPS_STRUCTURED\n",
      "\u001b[0m\n"
     ]
    },
    {
     "name": "stdout",
     "output_type": "stream",
     "text": [
      "------------------------------------------------------------------------------------------\n",
      "|\"LAPTOPS_SHA256\"                                    |\"LAPTOPS__QTY\"  |\"LAPTOPS__BRAND\"  |\n",
      "------------------------------------------------------------------------------------------\n",
      "|c1e9d88c853d0bb6f12fa4fe8064092a77692b5d0a99338...  |2               |\"Dell\"            |\n",
      "|76b62193b24292415e45cc3dab6d5592ed993d95c43e429...  |1               |\"Dell\"            |\n",
      "|76b62193b24292415e45cc3dab6d5592ed993d95c43e429...  |1               |\"Asus\"            |\n",
      "------------------------------------------------------------------------------------------\n",
      "\n"
     ]
    },
    {
     "name": "stderr",
     "output_type": "stream",
     "text": [
      "2023-08-05 19:55:08,151:\u001b[32mINFO      \u001b[0m LINE180   unpack_as_separate_tables.snowpark_main_handler\n",
      "\tResults: TEMP_DEPARTMENTS_STRUCTURED\n",
      "\u001b[0m\n"
     ]
    },
    {
     "name": "stdout",
     "output_type": "stream",
     "text": [
      "---------------------------------------------------------------------------------------------------------------------------------------------------------------------------\n",
      "|\"DEPARTMENTS_SHA256\"                                |\"DEPARTMENTS__DEPARTMENT_ID\"  |\"DEPARTMENTS__DEPARTMENT_NAME\"  |\"DEPARTMENTS__PROJECTS_SHA256\"                      |\n",
      "---------------------------------------------------------------------------------------------------------------------------------------------------------------------------\n",
      "|52889512d11f6d60317982b9df55c181ff85bcdab03556f...  |102                           |\"Marketing\"                     |e3ed20d8b3c2c37a5df5a99d0d6c4208160cbf0f8390052...  |\n",
      "|73b4dd67c6e8b686e6c30a6ee8eaaec058caf7c4633be02...  |101                           |\"IT\"                            |e07144fd38e4b9e803c22ac2c8e51ae3f20bcc80f76e42d...  |\n",
      "---------------------------------------------------------------------------------------------------------------------------------------------------------------------------\n",
      "\n"
     ]
    },
    {
     "name": "stderr",
     "output_type": "stream",
     "text": [
      "2023-08-05 19:55:08,900:\u001b[32mINFO      \u001b[0m LINE180   unpack_as_separate_tables.snowpark_main_handler\n",
      "\tResults: TEMP_DEPARTMENTS__PROJECTS_STRUCTURED\n",
      "\u001b[0m\n"
     ]
    },
    {
     "name": "stdout",
     "output_type": "stream",
     "text": [
      "-------------------------------------------------------------------------------------------------------------------------------------------------------------------------------------------------------------------------------------------------------------------\n",
      "|\"DEPARTMENTS__PROJECTS_SHA256\"                      |\"DEPARTMENTS__PROJECTS__PROJECT_NAME\"  |\"DEPARTMENTS__PROJECTS__END_DATE\"  |\"DEPARTMENTS__PROJECTS__PROJECT_ID\"  |\"DEPARTMENTS__PROJECTS__START_DATE\"  |\"DEPARTMENTS__PROJECTS__TASKS_SHA256\"               |\n",
      "-------------------------------------------------------------------------------------------------------------------------------------------------------------------------------------------------------------------------------------------------------------------\n",
      "|e3ed20d8b3c2c37a5df5a99d0d6c4208160cbf0f8390052...  |\"Project C\"                            |\"2023-07-15\"                       |1003                                 |\"2023-03-10\"                         |dca35f60c29cb429feed4ea19b931e11d847e6fe9f1ea69...  |\n",
      "|e07144fd38e4b9e803c22ac2c8e51ae3f20bcc80f76e42d...  |\"Project A\"                            |\"2023-05-30\"                       |1001                                 |\"2023-01-01\"                         |9330e03656a1546366c85d4db42e2046b2d6ac221560ef9...  |\n",
      "|e07144fd38e4b9e803c22ac2c8e51ae3f20bcc80f76e42d...  |\"Project B\"                            |\"2023-06-20\"                       |1002                                 |\"2023-02-15\"                         |d5f354549887313461872052f51191e36051cf5e0969817...  |\n",
      "-------------------------------------------------------------------------------------------------------------------------------------------------------------------------------------------------------------------------------------------------------------------\n",
      "\n"
     ]
    },
    {
     "name": "stderr",
     "output_type": "stream",
     "text": [
      "2023-08-05 19:55:09,650:\u001b[32mINFO      \u001b[0m LINE180   unpack_as_separate_tables.snowpark_main_handler\n",
      "\tResults: TEMP_DEPARTMENTS__PROJECTS__TASKS_STRUCTURED\n",
      "\u001b[0m\n"
     ]
    },
    {
     "name": "stdout",
     "output_type": "stream",
     "text": [
      "-------------------------------------------------------------------------------------------------------------------------------------------------------------------------------------\n",
      "|\"DEPARTMENTS__PROJECTS__TASKS_SHA256\"               |\"DEPARTMENTS__PROJECTS__TASKS__STATUS\"  |\"DEPARTMENTS__PROJECTS__TASKS__TASK_ID\"  |\"DEPARTMENTS__PROJECTS__TASKS__TASK_NAME\"  |\n",
      "-------------------------------------------------------------------------------------------------------------------------------------------------------------------------------------\n",
      "|dca35f60c29cb429feed4ea19b931e11d847e6fe9f1ea69...  |\"Completed\"                             |20004                                    |\"Task 1\"                                   |\n",
      "|dca35f60c29cb429feed4ea19b931e11d847e6fe9f1ea69...  |\"Not Started\"                           |20005                                    |\"Task 2\"                                   |\n",
      "|9330e03656a1546366c85d4db42e2046b2d6ac221560ef9...  |\"Completed\"                             |20001                                    |\"Task 1\"                                   |\n",
      "|9330e03656a1546366c85d4db42e2046b2d6ac221560ef9...  |\"In Progress\"                           |20002                                    |\"Task 2\"                                   |\n",
      "|d5f354549887313461872052f51191e36051cf5e0969817...  |\"Completed\"                             |20003                                    |\"Task 1\"                                   |\n",
      "-------------------------------------------------------------------------------------------------------------------------------------------------------------------------------------\n",
      "\n"
     ]
    }
   ],
   "source": [
    "import snowflake.snowpark as snowpark\n",
    "import os\n",
    "\n",
    "conn = dict(\n",
    "    account=os.getenv('SNOWFLAKE_ACCOUNT'),\n",
    "    database=os.getenv('SNOWFLAKE_DATABASE'),\n",
    "    schema=os.getenv('SNOWFLAKE_SCHEMA'),\n",
    "    warehouse=os.getenv('SNOWFLAKE_WAREHOUSE'),\n",
    "    user=os.getenv('SNOWFLAKE_USER'),\n",
    "    password=os.getenv('SNOWFLAKE_PASSWORD'),\n",
    "    role=os.getenv('SNOWFLAKE_ROLE')\n",
    "    \n",
    ")\n",
    "\n",
    "session = snowpark.Session.builder.configs(conn).create()\n",
    "\n",
    "import generate_relational_tables_from_nested_JSON as Handler\n",
    "try:\n",
    "    Handler.snowpark_main_handler(session, \n",
    "                                input_relation='PUBLIC.RAW',\n",
    "                                output_schema='OUTPUT',\n",
    "                                output_table_prefix='TEMP_',\n",
    "                                output_table_suffix='_STRUCTURED')\n",
    "except:\n",
    "    pass\n",
    "finally:\n",
    "    session.close()"
   ]
  }
 ],
 "metadata": {
  "kernelspec": {
   "display_name": ".env",
   "language": "python",
   "name": "python3"
  },
  "language_info": {
   "codemirror_mode": {
    "name": "ipython",
    "version": 3
   },
   "file_extension": ".py",
   "mimetype": "text/x-python",
   "name": "python",
   "nbconvert_exporter": "python",
   "pygments_lexer": "ipython3",
   "version": "3.10.10"
  },
  "orig_nbformat": 4
 },
 "nbformat": 4,
 "nbformat_minor": 2
}
